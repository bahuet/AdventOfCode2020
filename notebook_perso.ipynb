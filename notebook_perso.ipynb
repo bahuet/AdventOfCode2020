{
 "cells": [
  {
   "cell_type": "code",
   "execution_count": 15,
   "id": "opposite-princeton",
   "metadata": {},
   "outputs": [],
   "source": [
    "from __future__  import annotations\n",
    "from collections import Counter, defaultdict, namedtuple, deque\n",
    "from itertools   import permutations, combinations, product, chain\n",
    "from functools   import lru_cache, reduce\n",
    "from typing      import Dict, Tuple, Set, List, Iterator, Optional, Union, Sequence\n",
    "from contextlib  import contextmanager\n",
    "\n",
    "import operator\n",
    "import math\n",
    "import ast\n",
    "import sys\n",
    "import re\n",
    "import os"
   ]
  },
  {
   "cell_type": "code",
   "execution_count": 24,
   "id": "efficient-broadcasting",
   "metadata": {},
   "outputs": [],
   "source": [
    "def data(day: int, parser=str, sep='\\n') -> list:\n",
    "    \"Split the day's input file into sections separated by `sep`, and apply `parser` to each.\"\n",
    "    with open(os.path.join('inputs',str(day) + '.txt')) as f:\n",
    "        sections = f.read().rstrip().split(sep)\n",
    "        return list(map(parser, sections))\n",
    "     \n",
    "def do(day, *answers) -> List[int]:\n",
    "    \"E.g., do(3) returns [day3_1(in3), day3_2(in3)]. Verifies `answers` if given.\"\n",
    "    g = globals()\n",
    "    got = []\n",
    "    for part in (1, 2):\n",
    "        fname = f'day{day}_{part}'\n",
    "        if fname in g: \n",
    "            got.append(g[fname](g[f'in{day}']))\n",
    "            if len(answers) >= part: \n",
    "                assert got[-1] == answers[part - 1], (\n",
    "                    f'{fname}(in{day}) got {got[-1]}; expected {answers[part - 1]}')\n",
    "        else:\n",
    "            got.append(None)\n",
    "    return got"
   ]
  },
  {
   "cell_type": "code",
   "execution_count": 8,
   "id": "sound-scanning",
   "metadata": {},
   "outputs": [],
   "source": [
    "\n",
    "Number = Union[float, int]\n",
    "Atom = Union[Number, str]\n",
    "Char = str # Type used to indicate a single character\n",
    "\n",
    "cat = ''.join\n",
    "flatten = chain.from_iterable\n",
    "\n",
    "def quantify(iterable, pred=bool) -> int:\n",
    "    \"Count the number of items in iterable for which pred is true.\"\n",
    "    return sum(1 for item in iterable if pred(item))\n",
    "\n",
    "def first(iterable, default=None) -> object:\n",
    "    \"Return first item in iterable, or default.\"\n",
    "    return next(iter(iterable), default)\n",
    "\n",
    "def prod(numbers) -> Number:\n",
    "    \"The product of an iterable of numbers.\" \n",
    "    return reduce(operator.mul, numbers, 1)\n",
    "\n",
    "def dot(A, B) -> Number: \n",
    "    \"The dot product of two vectors of numbers.\"\n",
    "    return sum(a * b for a, b in zip(A, B))\n",
    "\n",
    "def ints(text: str) -> Tuple[int]:\n",
    "    \"Return a tuple of all the integers in text.\"\n",
    "    return mapt(int, re.findall('-?[0-9]+', text))\n",
    "\n",
    "def lines(text: str) -> List[str]:\n",
    "    \"Split the text into a list of lines.\"\n",
    "    return text.strip().splitlines()\n",
    "\n",
    "def mapt(fn, *args): \n",
    "    \"Do map(fn, *args) and make the result a tuple.\"\n",
    "    return tuple(map(fn, *args))\n",
    "\n",
    "def atoms(text: str, ignore=r'', sep=None) -> Tuple[Union[int, str]]:\n",
    "    \"Parse text into atoms separated by sep, with regex ignored.\"\n",
    "    text = re.sub(ignore, '', text)\n",
    "    return mapt(atom, text.split(sep))\n",
    "\n",
    "def atom(text: str, types=(int, str)):\n",
    "    \"Parse text into one of the given types.\"\n",
    "    for typ in types:\n",
    "        try:\n",
    "            return typ(text)\n",
    "        except ValueError:\n",
    "            pass\n",
    "\n",
    "@contextmanager\n",
    "def binding(**kwds):\n",
    "    \"Bind global variables within a context; revert to old values on exit.\"\n",
    "    old_values = {k: globals()[k] for k in kwds}\n",
    "    try:\n",
    "        globals().update(kwds)\n",
    "        yield # Stuff within the context gets run here.\n",
    "    finally:\n",
    "        globals().update(old_values)"
   ]
  },
  {
   "cell_type": "code",
   "execution_count": 30,
   "id": "linear-focus",
   "metadata": {},
   "outputs": [],
   "source": [
    "in1 = set(data(1,int))"
   ]
  },
  {
   "cell_type": "code",
   "execution_count": 31,
   "id": "continuous-timing",
   "metadata": {},
   "outputs": [],
   "source": [
    "def day1_1(nums_set):\n",
    "    \"\"\"Get the product of the 2 numbers that add up to 2020.\"\"\"\n",
    "    return first(a * b\n",
    "           for a in nums_set\n",
    "           for b in nums_set & { 2020 - a }\n",
    "           if a != b )"
   ]
  },
  {
   "cell_type": "code",
   "execution_count": 35,
   "id": "canadian-ownership",
   "metadata": {},
   "outputs": [],
   "source": [
    "def day1_2(nums_set):\n",
    "    \"\"\"Get the product of the 3 numbers that add up to 2020.\"\"\"\n",
    "    return first(a * b * c\n",
    "                for a, b in combinations(nums_set,2)\n",
    "                for c in nums_set & {2020-a-b}\n",
    "                if a !=c != b)"
   ]
  },
  {
   "cell_type": "code",
   "execution_count": 37,
   "id": "handled-correlation",
   "metadata": {},
   "outputs": [
    {
     "data": {
      "text/plain": [
       "[902451, 85555470]"
      ]
     },
     "execution_count": 37,
     "metadata": {},
     "output_type": "execute_result"
    }
   ],
   "source": [
    "do(1,902451,85555470)"
   ]
  }
 ],
 "metadata": {
  "kernelspec": {
   "display_name": "Python 3",
   "language": "python",
   "name": "python3"
  },
  "language_info": {
   "codemirror_mode": {
    "name": "ipython",
    "version": 3
   },
   "file_extension": ".py",
   "mimetype": "text/x-python",
   "name": "python",
   "nbconvert_exporter": "python",
   "pygments_lexer": "ipython3",
   "version": "3.9.1"
  }
 },
 "nbformat": 4,
 "nbformat_minor": 5
}
