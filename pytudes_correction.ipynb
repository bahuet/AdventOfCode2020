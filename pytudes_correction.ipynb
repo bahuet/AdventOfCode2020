{
 "cells": [
  {
   "cell_type": "markdown",
   "id": "industrial-knife",
   "metadata": {},
   "source": [
    "### Study of Peter Norvig's *pytudes*"
   ]
  },
  {
   "cell_type": "code",
   "execution_count": 15,
   "id": "opposite-princeton",
   "metadata": {},
   "outputs": [],
   "source": [
    "from __future__  import annotations\n",
    "from collections import Counter, defaultdict, namedtuple, deque\n",
    "from itertools   import permutations, combinations, product, chain\n",
    "from functools   import lru_cache, reduce\n",
    "from typing      import Dict, Tuple, Set, List, Iterator, Optional, Union, Sequence\n",
    "from contextlib  import contextmanager\n",
    "\n",
    "import operator\n",
    "import math\n",
    "import ast\n",
    "import sys\n",
    "import re\n",
    "import os"
   ]
  },
  {
   "cell_type": "code",
   "execution_count": 24,
   "id": "efficient-broadcasting",
   "metadata": {},
   "outputs": [],
   "source": [
    "def data(day: int, parser=str, sep='\\n') -> list:\n",
    "    \"Split the day's input file into sections separated by `sep`, and apply `parser` to each.\"\n",
    "    with open(os.path.join('inputs',str(day) + '.txt')) as f:\n",
    "        sections = f.read().rstrip().split(sep)\n",
    "        return list(map(parser, sections))\n",
    "     \n",
    "def do(day, *answers) -> List[int]:\n",
    "    \"E.g., do(3) returns [day3_1(in3), day3_2(in3)]. Verifies `answers` if given.\"\n",
    "    g = globals()\n",
    "    got = []\n",
    "    for part in (1, 2):\n",
    "        fname = f'day{day}_{part}'\n",
    "        if fname in g: \n",
    "            got.append(g[fname](g[f'in{day}']))\n",
    "            if len(answers) >= part: \n",
    "                assert got[-1] == answers[part - 1], (\n",
    "                    f'{fname}(in{day}) got {got[-1]}; expected {answers[part - 1]}')\n",
    "        else:\n",
    "            got.append(None)\n",
    "    return got"
   ]
  },
  {
   "cell_type": "code",
   "execution_count": 8,
   "id": "sound-scanning",
   "metadata": {},
   "outputs": [],
   "source": [
    "Number = Union[float, int]\n",
    "Atom = Union[Number, str]\n",
    "Char = str # Type used to indicate a single character\n",
    "\n",
    "cat = ''.join\n",
    "flatten = chain.from_iterable\n",
    "\n",
    "def quantify(iterable, pred=bool) -> int:\n",
    "    \"Count the number of items in iterable for which pred is true.\"\n",
    "    return sum(1 for item in iterable if pred(item))\n",
    "\n",
    "def first(iterable, default=None) -> object:\n",
    "    \"Return first item in iterable, or default.\"\n",
    "    return next(iter(iterable), default)\n",
    "\n",
    "def prod(numbers) -> Number:\n",
    "    \"The product of an iterable of numbers.\" \n",
    "    return reduce(operator.mul, numbers, 1)\n",
    "\n",
    "def dot(A, B) -> Number: \n",
    "    \"The dot product of two vectors of numbers.\"\n",
    "    return sum(a * b for a, b in zip(A, B))\n",
    "\n",
    "def ints(text: str) -> Tuple[int]:\n",
    "    \"Return a tuple of all the integers in text.\"\n",
    "    return mapt(int, re.findall('-?[0-9]+', text))\n",
    "\n",
    "def lines(text: str) -> List[str]:\n",
    "    \"Split the text into a list of lines.\"\n",
    "    return text.strip().splitlines()\n",
    "\n",
    "def mapt(fn, *args): \n",
    "    \"Do map(fn, *args) and make the result a tuple.\"\n",
    "    return tuple(map(fn, *args))\n",
    "\n",
    "def atoms(text: str, ignore=r'', sep=None) -> Tuple[Union[int, str]]:\n",
    "    \"Parse text into atoms separated by sep, with regex ignored.\"\n",
    "    text = re.sub(ignore, '', text)\n",
    "    return mapt(atom, text.split(sep))\n",
    "\n",
    "def atom(text: str, types=(int, str)):\n",
    "    \"Parse text into one of the given types.\"\n",
    "    for typ in types:\n",
    "        try:\n",
    "            return typ(text)\n",
    "        except ValueError:\n",
    "            pass\n",
    "\n",
    "@contextmanager\n",
    "def binding(**kwds):\n",
    "    \"Bind global variables within a context; revert to old values on exit.\"\n",
    "    old_values = {k: globals()[k] for k in kwds}\n",
    "    try:\n",
    "        globals().update(kwds)\n",
    "        yield # Stuff within the context gets run here.\n",
    "    finally:\n",
    "        globals().update(old_values)"
   ]
  },
  {
   "cell_type": "code",
   "execution_count": 25,
   "id": "sticky-pasta",
   "metadata": {},
   "outputs": [
    {
     "name": "stdout",
     "output_type": "stream",
     "text": [
      "[1411, 1802, 1773, 1775, 1442, 1471, 1048, 1403, 1881, 1930, 1710, 1717, 685, 1255, 1451, 1870, 208, 1725, 1879, 143, 1372, 1726, 1357, 1624, 1378, 1993, 1721, 1712, 1867, 1355, 1743, 1942, 114, 407, 1892, 1937, 2001, 1466, 1461, 1770, 1441, 1410, 1915, 1482, 1512, 1631, 1954, 1632, 1788, 1971, 1989, 1427, 1684, 1749, 1795, 1839, 1358, 1354, 1591, 1924, 1456, 2002, 1746, 1323, 1946, 1889, 296, 1908, 1959, 1944, 1655, 1602, 1768, 1666, 1465, 1782, 1739, 1472, 1576, 645, 1496, 1538, 1761, 1353, 1639, 1904, 1765, 1519, 1948, 1900, 1376, 1918, 1950, 667, 1976, 1925, 1939, 1319, 1895, 1510, 1480, 735, 1674, 1997, 1868, 1728, 1893, 1500, 1363, 1840, 1905, 1361, 1894, 1558, 1369, 1922, 1367, 1463, 1365, 1504, 1898, 1343, 1436, 1700, 1911, 1811, 1829, 1984, 1444, 1806, 1455, 1778, 1835, 1817, 1668, 1907, 1748, 2007, 1534, 1269, 1473, 1572, 2006, 1651, 1853, 1943, 1968, 1969, 1437, 1692, 1955, 1964, 1821, 1805, 1999, 1614, 1754, 1888, 1832, 1623, 1723, 1678, 2008, 1819, 1595, 1972, 1229, 1703, 1762, 1818, 1062, 1599, 1996, 2000, 1960, 1927, 1407, 1414, 1923, 1685, 1998, 1497, 1687, 1416, 1757, 1470, 1810, 2010, 1553, 1379, 1495, 1565, 1796, 2004, 1899, 2009, 1395, 1388, 1902, 1741]\n"
     ]
    }
   ],
   "source": [
    "data = data(1,int)\n"
   ]
  }
 ],
 "metadata": {
  "kernelspec": {
   "display_name": "Python 3",
   "language": "python",
   "name": "python3"
  },
  "language_info": {
   "codemirror_mode": {
    "name": "ipython",
    "version": 3
   },
   "file_extension": ".py",
   "mimetype": "text/x-python",
   "name": "python",
   "nbconvert_exporter": "python",
   "pygments_lexer": "ipython3",
   "version": "3.9.1"
  }
 },
 "nbformat": 4,
 "nbformat_minor": 5
}
